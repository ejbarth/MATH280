{
  "nbformat": 4,
  "nbformat_minor": 0,
  "metadata": {
    "colab": {
      "provenance": [],
      "authorship_tag": "ABX9TyNyAx9kO1oyfCuVp9bDX+k9",
      "include_colab_link": true
    },
    "kernelspec": {
      "name": "python3",
      "display_name": "Python 3"
    },
    "language_info": {
      "name": "python"
    }
  },
  "cells": [
    {
      "cell_type": "markdown",
      "metadata": {
        "id": "view-in-github",
        "colab_type": "text"
      },
      "source": [
        "<a href=\"https://colab.research.google.com/github/ejbarth/MATH280/blob/main/SolveExamples.ipynb\" target=\"_parent\"><img src=\"https://colab.research.google.com/assets/colab-badge.svg\" alt=\"Open In Colab\"/></a>"
      ]
    },
    {
      "cell_type": "code",
      "source": [
        "from sympy import *\n",
        "init_printing()"
      ],
      "metadata": {
        "id": "hPFt0V2NQ7fd"
      },
      "execution_count": null,
      "outputs": []
    },
    {
      "cell_type": "markdown",
      "source": [
        "#1. Solve for the variable\n",
        "\n",
        "![image.png](data:image/png;base64,iVBORw0KGgoAAAANSUhEUgAAAZQAAABUCAYAAAClWsGgAAAAAXNSR0IArs4c6QAAAARnQU1BAACxjwv8YQUAAAAJcEhZcwAADsMAAA7DAcdvqGQAAAVlSURBVHhe7d2NcqM2FAbQpO//zm21u5qqBIyAK5DQOTOexF7WFp8uuvgnyfff//oCgIv++vMVAC7RUAAIoaEAEEJDASCEhgJACA0FgBAaCgAhNBQAQmgoAITQUAAIoaEAEGK4hvL9/f3rQiy5kqkFzhrml0NuFbjfbXnNp4VDtnNxjHHVEA0lFfpymGXxK/hz1nJNcrZyncfWnKsFjuj+Ja+ycZTKAt/ahn2fspMr+ThTC9QY5j0UBQ3Qt6E/5eVp+DUpv08Zyhc4ovuG8mlR86wlnkznlua/rIH8vZMLagz9J4DLwlfw18lzbuX8l9QCtYZ9ycviFydlubWYMA/HEVcN/R4KMdJCki+ZBjOfrTlXC9QasqGUBe6sKpamMqc812snF4laoMZwDUUzgVhlMyk5vjhqqIayPIvivJRlvizJlkwtcMRwz1DWCnxtUQRiaCrUGqahpKahsO+hQVNSD9QaoqHkgk5f1y6cp0mTOZa4qvuGosjbyI1k2ZTL7zWbOZTzvKyFfF0tUGPon5QnRrmIJEpiXmphbE+fAGgoAIMrTwTSkv5UYxnuU14A/KdsHrmB5K/LZ5ytaSiN3T2hs5Ar1LnzWNFQAAb1qVnc/XJXoqEADO6J5rFGQwEghIYCQAgfG24svcYp4nhypWcRb4TX1Hd+nK1t9/49mobSmIWvDbnCyxtKHvxb1EQTsc93PU5P9vZZrvQqcMm8LNfv1pj2/j2a91AACOElr8bSGYKI48kV+nuGoqE0ZuFrQ670LC/kV9TUd/k4a9trKC9j4WtDrvDbVtPYazYteA8FNpQH5Ntc2Te5jOXOEy8NBVa8edFM0iJzZh/l0p/cMMpxP7UPGsofbz9QnjJirnnMd57ZtbKX/5H5kUu/yqZSztPdc9W8oYwwMaMVT9b7uEfNNdk7EN9Q1+UiVKtmgRq9Ls/k0oM07vLyhKYNJU/IaBMTqdXEzp5t61w/eVP2tTnW7utbsnlqQR7dLS959Tw5Cr9NBqPnWuNNdR09X2+pyxnqONLU76EoljZGzTWPe/Sz0+j85UKt6d+UH/0g6ZVcn3Uk/7ztDAuuXNoKbSgp+PKSLa/3oLfx7MkZLrNcXn9aT2OJkjNeZr283oO7x5MzWGaxvP60nsbyZqENJXX0fMnWbntaLq6exrRnLce12540Yq411nJeu+1pT+S/lsPabU96a132aNqXvBRXG6Pm+pZFJ3r8cuGI6RpKPkCIJddnyX+dXO7V5JdDlpN45O6vTH7t46THWG6bH7dBFOHOZHsl12zvsd6S66exnsk+uZJ/7eNczX9r29r7KPfxyJivqhnX2X1KjmxL42covU3CWnGNqqf9eFOuNdT1NnU5t6bPUHqbzDyuGr0WYotsrx54s+TaIvsIEflv7VvtPrfIJt3nlftrmQvrbmsoV4ujpZGKpkW2reZm9FyXWmTf0pH8t7atvY8W2Vz9/1tq9yk5si0NXvLKE1Bau43jZNtOXjC28pw1+71cklmz4adm76EsO7oOH0e2z5H9NtnQ/FNeSa+F9eksapQxR4wz3Wfk/o6Ya5LHvTXGFtm3cCb/TzWwl0vSIptPYzojOhd+avY35WuKkHOis3XQ/FaT6xvrem+favc5Opt0f0/m/Ma5bq3pS14mog3ZtpEzzQvJmhmzr8klmTEb/m+6n5TnJ4vAvHo+C39yTJ6dnKOhQCEvIHtn47ORCzU0FJiUs/B1cjlPQ4GFGc7GzyyacmGPhgIrZlhQzuyjXPik2ceGAZiLZygAhNBQAAihoQAQQkMBIISGAkAIDQWAEBoKACE0FABCaCgAhNBQAAihoQAQQkMBIISGAkCAr69/AOw+ddM2mdr2AAAAAElFTkSuQmCC)"
      ],
      "metadata": {
        "id": "RPY3Vp74QnQq"
      }
    },
    {
      "cell_type": "code",
      "execution_count": null,
      "metadata": {
        "colab": {
          "base_uri": "https://localhost:8080/",
          "height": 58
        },
        "id": "uuPFWd0LQW2W",
        "outputId": "fd668e46-f128-4b21-c181-17930d84e65b"
      },
      "outputs": [
        {
          "output_type": "execute_result",
          "data": {
            "text/plain": [
              "[{t: -4/5}]"
            ],
            "image/png": "[encoded data removed]",
            "text/latex": "$\\displaystyle \\left[ \\left\\{ t : - \\frac{4}{5}\\right\\}\\right]$"
          },
          "metadata": {},
          "execution_count": 4
        }
      ],
      "source": [
        "t=symbols(\"t\")\n",
        "expr=2/(t-4)+3/(t+4) + 8/((t-4)*(t+4))\n",
        "tsol=solve(expr,t,dict=True)\n",
        "tsol"
      ]
    },
    {
      "cell_type": "markdown",
      "source": [
        "And just 'cause we can, let's verify the solution by plugging it into the original expression:"
      ],
      "metadata": {
        "id": "vqFKgWTZU20_"
      }
    },
    {
      "cell_type": "code",
      "source": [
        "expr.subs(tsol[0])"
      ],
      "metadata": {
        "colab": {
          "base_uri": "https://localhost:8080/",
          "height": 37
        },
        "id": "3HMkfWqYQ4c0",
        "outputId": "bdcc952d-6ab2-4738-f9ce-48d9fc30b09e"
      },
      "execution_count": null,
      "outputs": [
        {
          "output_type": "execute_result",
          "data": {
            "text/plain": [
              "0"
            ],
            "text/latex": "$\\displaystyle 0$"
          },
          "metadata": {},
          "execution_count": 13
        }
      ]
    },
    {
      "cell_type": "markdown",
      "source": [
        "#2. Solve for $y$ in terms of the other variables\n",
        "\n",
        "![image.png](data:image/png;base64,iVBORw0KGgoAAAANSUhEUgAAAOwAAABQCAYAAAAa25kaAAAAAXNSR0IArs4c6QAAAARnQU1BAACxjwv8YQUAAAAJcEhZcwAADsMAAA7DAcdvqGQAAAOsSURBVHhe7d2BbqMwEEXRpP//z7sdKZYs5AEbzxi/9B4JbTcQMmPzgE2b7fvfrxcACT+fPwEIILCAEAILCCGwgBACCwghsIAQAgsIIbCAEAILCCGwgBACCwghsIAQAgsIIbCAkPTAvt/vz1cAZqUGlrACscIDayEtC4BY4YG1/8CiLABi8aYTIITAAkIILCCEwAJCCCwghMACQggsIITAAkIILCCEwAJCCCwghMACQsJ/3eTVp3T4UABwH78fFkPKCfmbD5udeySw6HJ25/Qth5DX4079EVhcsgO5dZh809W21WMd4F165E2nTt7Z96846199bLz665Du0iOBBT4UTjwEFpfsSnN2S7jL7WKG3Xrb7t+wx7NcKc973JytM2X9TKu2j4ihWlHrCnUfrVq9Pq/6f4o37l6fV314+5u11RW2brI0ao/Z4jWeNTAZlGo9U/owrV7qPst6e8yWXXuva73y5Dxud0t8ZxB2PQhaomotAZhZRo08T2lOPHWvx36e6m+bW+IyOHU5rceObJuy/mwfZqbV+nXuWlXrCl6tZ33t3tPRWY/l72f9muiewwJbF9nr6qVbg+HxBql3H3fqP+odytlad+H1cTTb18zcRLymtw9vm9l+z3zdu8QZg5RFqda/pCestZXzuO1POo0OmndWizrb2X6ihiq71kilJtOq66rmq+fvZmQOvG1H9jFq+yusNxg9RrZ92mittv3sstLMPK7WClpvvdl9bRPYmYOoPM87o2Wc6e6KqtW2m11mteZrZh6fZnX3jkvUPI7aIrDHCfYm3BvQ8pj3vJ0o1VrrOQBn5/FJpVb7s7UcPTWP290SlwE4DsjIwNi2qwfyrt1rreehrrP+uhW+sn5mHleJqMn2saK31DedSgO9L9HafmQf3oBFtGj7jhyqzFqzHGv2am3NWeuxb7B6HlMCu7yJBQeI7S9iXytqRb6n5jH8lrgc2PVSlIYitfaZ8ToRk7CqVuR6ch5DA+sVnR1a0wpURMgyKNUK3xPzGHpLXIfxuNuzdbNaJ4HsgbtLqVb4nprHZYE1ZT0HKHBP6C3xWRBbZyQAY8LfdLLQcgUFciz5wYmrW2UAfZYEFkCM9MBydQXipAaWsAKx0gJbfwuHsAIxUq+wraDy7R3gvpTAWii5qgLxwj+t03MFJczAPaFXWG53gVypH2AHECv1TScAsQgsIITAAkIILCCEwAJCCCwghMACQggsIITAAkIILCCEwAJCCCwghMACMl6v/zKxVd0K8QgfAAAAAElFTkSuQmCC)"
      ],
      "metadata": {
        "id": "qPfe_QlrRydi"
      }
    },
    {
      "cell_type": "code",
      "source": [
        "x,y = symbols(\"x,y\")\n",
        "ysol=solve(Eq(1/2*x*y+y,3*x-2*y),y,dict=True)\n",
        "ysol"
      ],
      "metadata": {
        "colab": {
          "base_uri": "https://localhost:8080/",
          "height": 58
        },
        "id": "emhg0tcJRUun",
        "outputId": "4888cfb7-2a77-4502-e94a-a8700412296b"
      },
      "execution_count": null,
      "outputs": [
        {
          "output_type": "execute_result",
          "data": {
            "text/plain": [
              "⎡⎧    6.0⋅x ⎫⎤\n",
              "⎢⎨y: ───────⎬⎥\n",
              "⎣⎩   x + 6.0⎭⎦"
            ],
            "image/png": "[encoded data removed]",
            "text/latex": "$\\displaystyle \\left[ \\left\\{ y : \\frac{6.0 x}{x + 6.0}\\right\\}\\right]$"
          },
          "metadata": {},
          "execution_count": 52
        }
      ]
    },
    {
      "cell_type": "code",
      "source": [
        "(1/2*x*y+y).subs(ysol[0]) - (3*x-2*y).subs(ysol[0])"
      ],
      "metadata": {
        "colab": {
          "base_uri": "https://localhost:8080/",
          "height": 55
        },
        "id": "BN7ZeGqtS_SH",
        "outputId": "a6456e95-0b46-42f9-de06-754307233b4c"
      },
      "execution_count": null,
      "outputs": [
        {
          "output_type": "execute_result",
          "data": {
            "text/plain": [
              "3.0*x**2/(x + 6.0) - 3*x + 18.0*x/(x + 6.0)"
            ],
            "text/latex": "$\\displaystyle \\frac{3.0 x^{2}}{x + 6.0} - 3 x + \\frac{18.0 x}{x + 6.0}$"
          },
          "metadata": {},
          "execution_count": 37
        }
      ]
    },
    {
      "cell_type": "code",
      "source": [
        "factor(_)"
      ],
      "metadata": {
        "colab": {
          "base_uri": "https://localhost:8080/",
          "height": 37
        },
        "id": "QH_xfIZTTEZv",
        "outputId": "a334d776-532c-4eb4-8e8b-427af6a60590"
      },
      "execution_count": null,
      "outputs": [
        {
          "output_type": "execute_result",
          "data": {
            "text/plain": [
              "0"
            ],
            "text/latex": "$\\displaystyle 0$"
          },
          "metadata": {},
          "execution_count": 38
        }
      ]
    },
    {
      "cell_type": "markdown",
      "source": [
        "# 8. Find the $x$ intercepts\n",
        "\n",
        "![image.png](data:image/png;base64,iVBORw0KGgoAAAANSUhEUgAAAOgAAAAyCAYAAABWDJcxAAAAAXNSR0IArs4c6QAAAARnQU1BAACxjwv8YQUAAAAJcEhZcwAADsMAAA7DAcdvqGQAAAKTSURBVHhe7duBTuswDIXhlfd/ZyDSIqwoWdMmTo/D/0kTaHBb28npCrsc379eACR9vT8CEERAAWEEFBBGQAFhBBQQRkABYQQUEEZAAWEEFBBGQAFhBBQQRkABYQQUEMZfs0x0HMf7sz+MFyN4BZ0khzMF0oayFlqgFwF1wisnZiCggDACOkl5a6su3XrvfPu9S3/8ksiJ3RxKI/60aXfYCq3+ovZGQB0oh7NWT643+lao9ae6Fr24xZ3MY0PYY476dKyZ57lixnlbx7Br8FR/Iwiog7Qp8saIuCki223eBHSitDmUb6PshaNGufYRkfty/Rm0vJqVp8pfVxxgq/be563R/tKxvWZk666d4+oc7pjVX66pPNZZj8rcXkFbw4rA1p7rT8+lR6uf/L21h6qzjXtnDk+yde7C9RZ35rDyxhh5XLHbQltX5hF9DrbPiL243eKmweRD5yHZU6kO7lOtT9VpZzlbax1WzuGJ/qJwfx/0ygZQ5V2rndFdI7X1buK7c3iqv96+lC37LW7UASGmHcKZLHsFLU9z92q8msJCpxpGz33Wx9l6eM5hRn/WWS+RPPI+qF3sXunfjD5GlIs9eryoosyhFs6Ia+Ya0DyQ1pXsyhUufe/oo0eq+b+Fr9Zv1DmkmnvXOoIlb7NEWeiyzlbdkTdBT91R55DrTB9rj4iW3uJGGlSus7zIRF1o24ftwX5eC1v+uvoc1OqZZcmfm7WGt+DUt5SbMqk9t0o698zzluvROvaqOczubydL/i+u9wLvbvcNTEDb3G5xcxCt2nM4t/vmJZxt7j+D1obPggB9ltziWoQT6Lfkl0QA7ln6NguAawgoIIyAAsIIKCCMgALCCCggjIACwggoIIyAArJerx/UpMKPFCUPcgAAAABJRU5ErkJggg==)"
      ],
      "metadata": {
        "id": "0F-6UzZHX0f3"
      }
    },
    {
      "cell_type": "code",
      "source": [
        "ee=Eq(y,x**2+3*x+2)\n",
        "ee"
      ],
      "metadata": {
        "colab": {
          "base_uri": "https://localhost:8080/",
          "height": 38
        },
        "id": "_IwvZwefTUHv",
        "outputId": "671ec8ae-fa48-412e-8bfe-8ced9645a2e6"
      },
      "execution_count": null,
      "outputs": [
        {
          "output_type": "execute_result",
          "data": {
            "text/plain": [
              "Eq(y, x**2 + 3*x + 2)"
            ],
            "text/latex": "$\\displaystyle y = x^{2} + 3 x + 2$"
          },
          "metadata": {},
          "execution_count": 43
        }
      ]
    },
    {
      "cell_type": "code",
      "source": [
        "ee.subs(y,0)"
      ],
      "metadata": {
        "colab": {
          "base_uri": "https://localhost:8080/",
          "height": 38
        },
        "id": "cKwlP_ZLXVMO",
        "outputId": "e6597a54-14b9-46d8-a92f-b67306135391"
      },
      "execution_count": null,
      "outputs": [
        {
          "output_type": "execute_result",
          "data": {
            "text/plain": [
              "Eq(0, x**2 + 3*x + 2)"
            ],
            "text/latex": "$\\displaystyle 0 = x^{2} + 3 x + 2$"
          },
          "metadata": {},
          "execution_count": 45
        }
      ]
    },
    {
      "cell_type": "code",
      "source": [
        "solve(_,x)"
      ],
      "metadata": {
        "colab": {
          "base_uri": "https://localhost:8080/"
        },
        "id": "nrpws_iDXbHV",
        "outputId": "7c967e18-dd9f-4dec-8dc1-3e684ec0c4aa"
      },
      "execution_count": null,
      "outputs": [
        {
          "output_type": "execute_result",
          "data": {
            "text/plain": [
              "[-2, -1]"
            ]
          },
          "metadata": {},
          "execution_count": 46
        }
      ]
    },
    {
      "cell_type": "code",
      "source": [],
      "metadata": {
        "id": "JQQYSObBXpG-"
      },
      "execution_count": null,
      "outputs": []
    }
  ]
}